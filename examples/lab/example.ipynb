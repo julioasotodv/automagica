{
 "cells": [
  {
   "cell_type": "code",
   "execution_count": 2,
   "metadata": {},
   "outputs": [],
   "source": [
    "import automagica\n"
   ]
  },
  {
   "cell_type": "code",
   "execution_count": 3,
   "metadata": {},
   "outputs": [
    {
     "name": "stdout",
     "output_type": "stream",
     "text": [
      "ok\n"
     ]
    }
   ],
   "source": [
    "print('ok')"
   ]
  },
  {
   "cell_type": "code",
   "execution_count": 1,
   "metadata": {},
   "outputs": [
    {
     "data": {
      "text/plain": [
       "{'ALLUSERSPROFILE': 'C:\\\\ProgramData',\n",
       " 'ANDROID_SDK_ROOT': 'C:\\\\Users\\\\KoenvanEijk(Oakwood)\\\\AppData\\\\Local\\\\Android\\\\sdk',\n",
       " 'APPDATA': 'C:\\\\Users\\\\KoenvanEijk(Oakwood)\\\\AppData\\\\Roaming',\n",
       " 'APPLICATION_INSIGHTS_NO_DIAGNOSTIC_CHANNEL': 'true',\n",
       " 'AUTOMAGICA_OCR_URL': 'https://ocr.automagica.com',\n",
       " 'AUTOMAGICA_PORTAL_URL': 'https://portalele.automagica.com',\n",
       " 'AUTOMAGICA_VISION_URL': 'https://vision.automagica.com',\n",
       " 'COMMONPROGRAMFILES': 'C:\\\\Program Files\\\\Common Files',\n",
       " 'COMMONPROGRAMFILES(X86)': 'C:\\\\Program Files (x86)\\\\Common Files',\n",
       " 'COMMONPROGRAMW6432': 'C:\\\\Program Files\\\\Common Files',\n",
       " 'COMPUTERNAME': 'DESKTOP-AEFP1DS',\n",
       " 'COMSPEC': 'C:\\\\Windows\\\\system32\\\\cmd.exe',\n",
       " 'CONDA_DEFAULT_ENV': 'automagica4',\n",
       " 'CONDA_EXE': 'C:\\\\ProgramData\\\\Anaconda3\\\\Scripts\\\\conda.exe',\n",
       " 'CONDA_PREFIX': 'C:\\\\ProgramData\\\\Anaconda3\\\\envs\\\\automagica4',\n",
       " 'CONDA_PROMPT_MODIFIER': '(automagica4) ',\n",
       " 'CONDA_PYTHON_EXE': 'C:\\\\ProgramData\\\\Anaconda3\\\\python.exe',\n",
       " 'CONDA_SHLVL': '1',\n",
       " 'DRIVERDATA': 'C:\\\\Windows\\\\System32\\\\Drivers\\\\DriverData',\n",
       " 'ELECTRON_CRASHPAD_PIPE_NAME': '\\\\\\\\.\\\\pipe\\\\crashpad_4464_VNARMGIVNJFMMHPN',\n",
       " 'ELECTRON_NO_ATTACH_CONSOLE': '1',\n",
       " 'FPS_BROWSER_APP_PROFILE_STRING': 'Internet Explorer',\n",
       " 'FPS_BROWSER_USER_PROFILE_STRING': 'Default',\n",
       " 'HOMEDRIVE': 'C:',\n",
       " 'HOMEPATH': '\\\\Users\\\\KoenvanEijk(Oakwood)',\n",
       " 'LOCALAPPDATA': 'C:\\\\Users\\\\KoenvanEijk(Oakwood)\\\\AppData\\\\Local',\n",
       " 'LOGONSERVER': '\\\\\\\\DESKTOP-AEFP1DS',\n",
       " 'MOLLIE_API_KEY': 'test_kdgz5MgJAuGM6WqCFgxWtPng8tDQK8',\n",
       " 'NUMBER_OF_PROCESSORS': '16',\n",
       " 'ONEDRIVE': 'E:\\\\OneDrive\\\\OneDrive - Oakwood Technologies BVBA',\n",
       " 'ONEDRIVECOMMERCIAL': 'E:\\\\OneDrive\\\\OneDrive - Oakwood Technologies BVBA',\n",
       " 'ONEDRIVECONSUMER': 'C:\\\\Users\\\\KoenvanEijk(Oakwood)\\\\OneDrive',\n",
       " 'OS': 'Windows_NT',\n",
       " 'PATH': 'C:\\\\ProgramData\\\\Anaconda3\\\\envs\\\\automagica4\\\\lib\\\\site-packages\\\\pywin32_system32;C:\\\\ProgramData\\\\Anaconda3\\\\envs\\\\automagica4\\\\lib\\\\site-packages\\\\pywin32_system32;C:\\\\ProgramData\\\\Anaconda3\\\\envs\\\\automagica4\\\\lib\\\\site-packages\\\\pywin32_system32;C:\\\\ProgramData\\\\Anaconda3\\\\envs\\\\automagica4;C:\\\\ProgramData\\\\Anaconda3\\\\envs\\\\automagica4\\\\Library\\\\mingw-w64\\\\bin;C:\\\\ProgramData\\\\Anaconda3\\\\envs\\\\automagica4\\\\Library\\\\usr\\\\bin;C:\\\\ProgramData\\\\Anaconda3\\\\envs\\\\automagica4\\\\Library\\\\bin;C:\\\\ProgramData\\\\Anaconda3\\\\envs\\\\automagica4\\\\Scripts;C:\\\\ProgramData\\\\Anaconda3\\\\envs\\\\automagica4\\\\bin;C:\\\\ProgramData\\\\Anaconda3\\\\condabin;C:\\\\ProgramData\\\\Anaconda3;C:\\\\ProgramData\\\\Anaconda3\\\\Library\\\\mingw-w64\\\\bin;C:\\\\ProgramData\\\\Anaconda3\\\\Library\\\\usr\\\\bin;C:\\\\ProgramData\\\\Anaconda3\\\\Library\\\\bin;C:\\\\ProgramData\\\\Anaconda3\\\\Scripts;C:\\\\Windows\\\\system32;C:\\\\Windows;C:\\\\Windows\\\\System32\\\\Wbem;C:\\\\Windows\\\\System32\\\\WindowsPowerShell\\\\v1.0;C:\\\\Windows\\\\System32\\\\OpenSSH;C:\\\\Program Files (x86)\\\\Intel\\\\Intel(R) Management Engine Components\\\\DAL;C:\\\\Program Files\\\\Intel\\\\Intel(R) Management Engine Components\\\\DAL;C:\\\\Program Files\\\\NVIDIA Corporation\\\\NVIDIA NvDLISR;C:\\\\Program Files (x86)\\\\NVIDIA Corporation\\\\PhysX\\\\Common;C:\\\\Program Files\\\\Git\\\\cmd;C:\\\\Program Files\\\\PuTTY;C:\\\\Program Files\\\\dotnet;C:\\\\Program Files\\\\nodejs;C:\\\\Program Files (x86)\\\\Yarn\\\\bin;C:\\\\Program Files\\\\Docker\\\\Docker\\\\resources\\\\bin;C:\\\\ProgramData\\\\DockerDesktop\\\\version-bin;C:\\\\Users\\\\KoenvanEijk(Oakwood)\\\\AppData\\\\Local\\\\Microsoft\\\\WindowsApps;C:\\\\Users\\\\KoenvanEijk(Oakwood)\\\\AppData\\\\Local\\\\Programs\\\\Microsoft VS Code\\\\bin;C:\\\\Program Files\\\\wkhtmltopdf\\\\bin;C:\\\\Users\\\\KoenvanEijk(Oakwood)\\\\AppData\\\\Local\\\\Android\\\\Sdk;C:\\\\Users\\\\KoenvanEijk(Oakwood)\\\\AppData\\\\Roaming\\\\npm;C:\\\\Users\\\\KoenvanEijk(Oakwood)\\\\AppData\\\\Local\\\\Yarn\\\\bin',\n",
       " 'PATHEXT': '.COM;.EXE;.BAT;.CMD;.VBS;.VBE;.JS;.JSE;.WSF;.WSH;.MSC',\n",
       " 'PROCESSOR_ARCHITECTURE': 'AMD64',\n",
       " 'PROCESSOR_IDENTIFIER': 'Intel64 Family 6 Model 158 Stepping 13, GenuineIntel',\n",
       " 'PROCESSOR_LEVEL': '6',\n",
       " 'PROCESSOR_REVISION': '9e0d',\n",
       " 'PROGRAMDATA': 'C:\\\\ProgramData',\n",
       " 'PROGRAMFILES': 'C:\\\\Program Files',\n",
       " 'PROGRAMFILES(X86)': 'C:\\\\Program Files (x86)',\n",
       " 'PROGRAMW6432': 'C:\\\\Program Files',\n",
       " 'PROMPT': '(automagica4) $P$G',\n",
       " 'PSMODULEPATH': 'C:\\\\Program Files\\\\WindowsPowerShell\\\\Modules;C:\\\\Windows\\\\system32\\\\WindowsPowerShell\\\\v1.0\\\\Modules',\n",
       " 'PUBLIC': 'C:\\\\Users\\\\Public',\n",
       " 'SESSIONNAME': 'Console',\n",
       " 'SYSTEMDRIVE': 'C:',\n",
       " 'SYSTEMROOT': 'C:\\\\Windows',\n",
       " 'TEMP': 'C:\\\\Users\\\\KOENVA~1\\\\AppData\\\\Local\\\\Temp',\n",
       " 'TMP': 'C:\\\\Users\\\\KOENVA~1\\\\AppData\\\\Local\\\\Temp',\n",
       " 'USERDOMAIN': 'AzureAD',\n",
       " 'USERDOMAIN_ROAMINGPROFILE': 'AzureAD',\n",
       " 'USERNAME': 'KoenvanEijk(Oakwood)',\n",
       " 'USERPROFILE': 'C:\\\\Users\\\\KoenvanEijk(Oakwood)',\n",
       " 'VBOX_MSI_INSTALL_PATH': 'C:\\\\Program Files\\\\Oracle\\\\VirtualBox\\\\',\n",
       " 'VSCODE_CLI': '1',\n",
       " 'VSCODE_CWD': 'C:\\\\repositories\\\\Automagica',\n",
       " 'VSCODE_IPC_HOOK': '\\\\\\\\.\\\\pipe\\\\a87f309254054793e5f3381811f79582-1.45.1-main-sock',\n",
       " 'VSCODE_LOGS': 'C:\\\\Users\\\\KoenvanEijk(Oakwood)\\\\AppData\\\\Roaming\\\\Code\\\\logs\\\\20200603T171625',\n",
       " 'VSCODE_NLS_CONFIG': '{\"locale\":\"en-gb\",\"availableLanguages\":{},\"_languagePackSupport\":true}',\n",
       " 'VSCODE_NODE_CACHED_DATA_DIR': 'C:\\\\Users\\\\KoenvanEijk(Oakwood)\\\\AppData\\\\Roaming\\\\Code\\\\CachedData\\\\5763d909d5f12fe19f215cbfdd29a91c0fa9208a',\n",
       " 'VSCODE_PID': '4464',\n",
       " 'WINDIR': 'C:\\\\Windows',\n",
       " 'JUPYTER_CONFIG_DIR': 'c:\\\\repositories\\\\automagica\\\\automagica\\\\gui\\\\lab\\\\.jupyter',\n",
       " 'KERNEL_LAUNCH_TIMEOUT': '40',\n",
       " 'JPY_INTERRUPT_EVENT': '2196',\n",
       " 'IPY_INTERRUPT_EVENT': '2196',\n",
       " 'JPY_PARENT_PID': '2188',\n",
       " 'TERM': 'xterm-color',\n",
       " 'CLICOLOR': '1',\n",
       " 'PAGER': 'cat',\n",
       " 'GIT_PAGER': 'cat',\n",
       " 'MPLBACKEND': 'module://ipykernel.pylab.backend_inline'}"
      ]
     },
     "execution_count": 1,
     "metadata": {},
     "output_type": "execute_result"
    }
   ],
   "source": [
    "import os\n",
    "os.environ.copy()"
   ]
  }
 ],
 "metadata": {
  "kernelspec": {
   "display_name": "Python 3",
   "language": "python",
   "name": "python3"
  },
  "language_info": {
   "codemirror_mode": {
    "name": "ipython",
    "version": 3
   },
   "file_extension": ".py",
   "mimetype": "text/x-python",
   "name": "python",
   "nbconvert_exporter": "python",
   "pygments_lexer": "ipython3",
   "version": "3.7.7"
  }
 },
 "nbformat": 4,
 "nbformat_minor": 2
}
