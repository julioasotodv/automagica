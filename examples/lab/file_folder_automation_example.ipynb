{
 "cells": [
  {
   "cell_type": "markdown",
   "metadata": {},
   "source": [
    "# Folder & File Automation\n",
    "\n",
    "In this example we will create, delet and move files and folders on Windows"
   ]
  },
  {
   "cell_type": "markdown",
   "metadata": {},
   "source": [
    "## Initializing Automagica\n",
    "\n",
    "The first step in building a script with Automagica is to import all the Automagica activities."
   ]
  },
  {
   "cell_type": "code",
   "execution_count": 10,
   "metadata": {},
   "outputs": [],
   "source": [
    "from automagica import *"
   ]
  },
  {
   "cell_type": "markdown",
   "metadata": {},
   "source": [
    "## Creating some files\n",
    "\n",
    "Let's start by creating some textfiles on in the home directory."
   ]
  },
  {
   "cell_type": "code",
   "execution_count": 12,
   "metadata": {},
   "outputs": [],
   "source": [
    "# Make textfile 1\n",
    "textfile_1 = make_textfile(output_path=home_path('textfile1.txt'))\n",
    "\n",
    "# Make textfile 2\n",
    "textfile_2 = make_textfile(output_path=home_path('textfile2.txt'))\n",
    "\n",
    "# Make textfile 3\n",
    "textfile_3 = make_textfile(output_path=home_path('textfile3.txt'))"
   ]
  },
  {
   "attachments": {
    "filesandfolder1.png": {
     "image/png": "[encoded data removed]"
    }
   },
   "cell_type": "markdown",
   "metadata": {},
   "source": [
    "This should create 3 files in your home directory\n",
    "\n",
    "![filesandfolder1.png](attachment:filesandfolder1.png)\n",
    "\n",
    "We can use Automagica to open the home directory and have a look"
   ]
  },
  {
   "cell_type": "code",
   "execution_count": 13,
   "metadata": {},
   "outputs": [
    {
     "data": {
      "text/plain": [
       "'C:\\\\Users\\\\TvT'"
      ]
     },
     "execution_count": 13,
     "metadata": {},
     "output_type": "execute_result"
    }
   ],
   "source": [
    "open_file(home_path())"
   ]
  },
  {
   "cell_type": "markdown",
   "metadata": {},
   "source": [
    "## Creating a folder\n",
    "\n",
    "We can create a folder in the home directory to move the textfiles to."
   ]
  },
  {
   "cell_type": "code",
   "execution_count": 14,
   "metadata": {},
   "outputs": [],
   "source": [
    "folder_1 = create_folder(path=home_path('nice_folder'))"
   ]
  },
  {
   "attachments": {
    "filesandfolder2.png": {
     "image/png": "[encoded data removed]"
    }
   },
   "cell_type": "markdown",
   "metadata": {},
   "source": [
    "You can verify in your home directory that a new folder with the correct name was created\n",
    "\n",
    "![filesandfolder2.png](attachment:filesandfolder2.png)"
   ]
  },
  {
   "cell_type": "markdown",
   "metadata": {},
   "source": [
    "## Moving the files\n",
    "\n",
    "We can now move the textfiles to the folder "
   ]
  },
  {
   "cell_type": "code",
   "execution_count": 15,
   "metadata": {},
   "outputs": [
    {
     "data": {
      "text/plain": [
       "'C:\\\\Users\\\\TvT\\\\nice_folder_fadb'"
      ]
     },
     "execution_count": 15,
     "metadata": {},
     "output_type": "execute_result"
    }
   ],
   "source": [
    "# Move textfile 1\n",
    "move_file(textfile_1, folder_1)\n",
    "\n",
    "# Move textfile 2\n",
    "move_file(textfile_2, folder_1)\n",
    "\n",
    "# Move textfile 3\n",
    "move_file(textfile_3, folder_1)"
   ]
  },
  {
   "attachments": {
    "filesandfolder3.png": {
     "image/png": "[encoded data removed]"
    }
   },
   "cell_type": "markdown",
   "metadata": {},
   "source": [
    "The new folder now contains the three textfiles\n",
    "\n",
    "![filesandfolder3.png](attachment:filesandfolder3.png)\n",
    "\n",
    "Finally we can open the folder to verify all files have been moved:"
   ]
  },
  {
   "cell_type": "code",
   "execution_count": 16,
   "metadata": {},
   "outputs": [
    {
     "data": {
      "text/plain": [
       "'C:\\\\Users\\\\TvT\\\\nice_folder_fadb'"
      ]
     },
     "execution_count": 16,
     "metadata": {},
     "output_type": "execute_result"
    }
   ],
   "source": [
    "# Open the new folder\n",
    "open_file(folder_1)"
   ]
  }
 ],
 "metadata": {
  "kernelspec": {
   "display_name": "'Python Interactive'",
   "language": "python",
   "name": "bb341ba4-98f7-43a2-996e-ea9a75df951a"
  },
  "language_info": {
   "codemirror_mode": {
    "name": "ipython",
    "version": 3
   },
   "file_extension": ".py",
   "mimetype": "text/x-python",
   "name": "python",
   "nbconvert_exporter": "python",
   "pygments_lexer": "ipython3",
   "version": "3.6.6"
  }
 },
 "nbformat": 4,
 "nbformat_minor": 2
}
